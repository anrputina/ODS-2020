{
 "cells": [
  {
   "cell_type": "code",
   "execution_count": 1,
   "metadata": {},
   "outputs": [],
   "source": [
    "import pandas as pd\n",
    "import numpy as np\n",
    "from sklearn.metrics import average_precision_score, roc_auc_score \n",
    "import scipy.stats as st"
   ]
  },
  {
   "cell_type": "code",
   "execution_count": 3,
   "metadata": {},
   "outputs": [],
   "source": [
    "ods = pd.read_pickle('ods_scores.pkl')\n",
    "# rrcf = pd.read_pickle('rrcf_scores.pkl')"
   ]
  },
  {
   "cell_type": "code",
   "execution_count": 4,
   "metadata": {},
   "outputs": [],
   "source": [
    "def precision_at_k(labels, scores, k=5):\n",
    "    scores = pd.Series(scores)\n",
    "    labels = pd.Series(labels)\n",
    "    indexes = scores.sort_values(ascending=False)[:k].index\n",
    "    return labels[indexes].sum()/len(indexes)"
   ]
  },
  {
   "cell_type": "code",
   "execution_count": 5,
   "metadata": {},
   "outputs": [],
   "source": [
    "def get_mean_conf_interval(df):\n",
    "    \n",
    "    res = {}\n",
    "    index = []\n",
    "    \n",
    "    for key in ['AP', 'ROC', 'P@3', 'P@5']:\n",
    "        \n",
    "        res['mean_'+key] = df[key].mean()\n",
    "        index.append('mean_'+key)\n",
    "        \n",
    "        res['ci_'+key] = res['mean_'+key] - st.t.interval(0.95, len(df[key].dropna())-1, loc=df[key].dropna().mean(), scale=st.sem(df[key].dropna()))[0]\n",
    "        index.append('ci_'+key)\n",
    "        \n",
    "    return pd.Series(res, index)"
   ]
  },
  {
   "cell_type": "code",
   "execution_count": 7,
   "metadata": {},
   "outputs": [],
   "source": [
    "ods['AP'] = ods.apply(lambda row: average_precision_score(row['label'], row['scores']), axis=1)\n",
    "# rrcf['AP'] = rrcf.apply(lambda row: average_precision_score(row['label'], row['scores']), axis=1)\n",
    "\n",
    "ods['ROC'] = ods.apply(lambda row: roc_auc_score(row['label'], row['scores']), axis=1)\n",
    "# rrcf['ROC'] = rrcf.apply(lambda row: roc_auc_score(row['label'], row['scores']), axis=1)\n",
    "\n",
    "ods['P@3'] = ods.apply(lambda row: precision_at_k(row['label'], row['scores'], k=3), axis=1)\n",
    "# rrcf['P@3'] = rrcf.apply(lambda row: precision_at_k(row['label'], row['scores'], k=3), axis=1)\n",
    "\n",
    "ods['P@5'] = ods.apply(lambda row: precision_at_k(row['label'], row['scores'], k=5), axis=1)\n",
    "# rrcf['P@5'] = rrcf.apply(lambda row: precision_at_k(row['label'], row['scores'], k=5), axis=1)"
   ]
  },
  {
   "cell_type": "code",
   "execution_count": 8,
   "metadata": {},
   "outputs": [
    {
     "name": "stderr",
     "output_type": "stream",
     "text": [
      "/Users/andrian/opt/anaconda3/envs/ods/lib/python3.6/site-packages/scipy/stats/_distn_infrastructure.py:1920: RuntimeWarning: invalid value encountered in multiply\n",
      "  lower_bound = self.a * scale + loc\n",
      "/Users/andrian/opt/anaconda3/envs/ods/lib/python3.6/site-packages/scipy/stats/_distn_infrastructure.py:1921: RuntimeWarning: invalid value encountered in multiply\n",
      "  upper_bound = self.b * scale + loc\n"
     ]
    },
    {
     "data": {
      "text/html": [
       "<div>\n",
       "<style scoped>\n",
       "    .dataframe tbody tr th:only-of-type {\n",
       "        vertical-align: middle;\n",
       "    }\n",
       "\n",
       "    .dataframe tbody tr th {\n",
       "        vertical-align: top;\n",
       "    }\n",
       "\n",
       "    .dataframe thead th {\n",
       "        text-align: right;\n",
       "    }\n",
       "</style>\n",
       "<table border=\"1\" class=\"dataframe\">\n",
       "  <thead>\n",
       "    <tr style=\"text-align: right;\">\n",
       "      <th></th>\n",
       "      <th>mean_AP</th>\n",
       "      <th>ci_AP</th>\n",
       "      <th>mean_ROC</th>\n",
       "      <th>ci_ROC</th>\n",
       "      <th>mean_P@3</th>\n",
       "      <th>ci_P@3</th>\n",
       "      <th>mean_P@5</th>\n",
       "      <th>ci_P@5</th>\n",
       "    </tr>\n",
       "    <tr>\n",
       "      <th>dataset</th>\n",
       "      <th></th>\n",
       "      <th></th>\n",
       "      <th></th>\n",
       "      <th></th>\n",
       "      <th></th>\n",
       "      <th></th>\n",
       "      <th></th>\n",
       "      <th></th>\n",
       "    </tr>\n",
       "  </thead>\n",
       "  <tbody>\n",
       "    <tr>\n",
       "      <th>BGP_testbed_10</th>\n",
       "      <td>0.827151</td>\n",
       "      <td>0.137313</td>\n",
       "      <td>0.982870</td>\n",
       "      <td>0.017061</td>\n",
       "      <td>0.909091</td>\n",
       "      <td>0.104601</td>\n",
       "      <td>0.763636</td>\n",
       "      <td>0.168013</td>\n",
       "    </tr>\n",
       "    <tr>\n",
       "      <th>BGP_testbed_2</th>\n",
       "      <td>0.892658</td>\n",
       "      <td>0.058081</td>\n",
       "      <td>0.985031</td>\n",
       "      <td>0.015995</td>\n",
       "      <td>0.969697</td>\n",
       "      <td>0.067519</td>\n",
       "      <td>0.963636</td>\n",
       "      <td>0.054352</td>\n",
       "    </tr>\n",
       "    <tr>\n",
       "      <th>BGP_testbed_3</th>\n",
       "      <td>0.899628</td>\n",
       "      <td>0.074074</td>\n",
       "      <td>0.987264</td>\n",
       "      <td>0.014107</td>\n",
       "      <td>0.969697</td>\n",
       "      <td>0.067519</td>\n",
       "      <td>0.872727</td>\n",
       "      <td>0.090587</td>\n",
       "    </tr>\n",
       "    <tr>\n",
       "      <th>BGP_testbed_5</th>\n",
       "      <td>0.928133</td>\n",
       "      <td>0.061088</td>\n",
       "      <td>0.994902</td>\n",
       "      <td>0.005570</td>\n",
       "      <td>1.000000</td>\n",
       "      <td>NaN</td>\n",
       "      <td>1.000000</td>\n",
       "      <td>NaN</td>\n",
       "    </tr>\n",
       "    <tr>\n",
       "      <th>BGP_testbed_9</th>\n",
       "      <td>0.598972</td>\n",
       "      <td>0.119242</td>\n",
       "      <td>0.923133</td>\n",
       "      <td>0.035965</td>\n",
       "      <td>0.787879</td>\n",
       "      <td>0.150978</td>\n",
       "      <td>0.563636</td>\n",
       "      <td>0.117414</td>\n",
       "    </tr>\n",
       "  </tbody>\n",
       "</table>\n",
       "</div>"
      ],
      "text/plain": [
       "                 mean_AP     ci_AP  mean_ROC    ci_ROC  mean_P@3    ci_P@3  \\\n",
       "dataset                                                                      \n",
       "BGP_testbed_10  0.827151  0.137313  0.982870  0.017061  0.909091  0.104601   \n",
       "BGP_testbed_2   0.892658  0.058081  0.985031  0.015995  0.969697  0.067519   \n",
       "BGP_testbed_3   0.899628  0.074074  0.987264  0.014107  0.969697  0.067519   \n",
       "BGP_testbed_5   0.928133  0.061088  0.994902  0.005570  1.000000       NaN   \n",
       "BGP_testbed_9   0.598972  0.119242  0.923133  0.035965  0.787879  0.150978   \n",
       "\n",
       "                mean_P@5    ci_P@5  \n",
       "dataset                             \n",
       "BGP_testbed_10  0.763636  0.168013  \n",
       "BGP_testbed_2   0.963636  0.054352  \n",
       "BGP_testbed_3   0.872727  0.090587  \n",
       "BGP_testbed_5   1.000000       NaN  \n",
       "BGP_testbed_9   0.563636  0.117414  "
      ]
     },
     "execution_count": 8,
     "metadata": {},
     "output_type": "execute_result"
    }
   ],
   "source": [
    "ods_res = ods.groupby('dataset').apply(get_mean_conf_interval)\n",
    "ods_res"
   ]
  },
  {
   "cell_type": "code",
   "execution_count": 9,
   "metadata": {},
   "outputs": [
    {
     "ename": "NameError",
     "evalue": "name 'rrcf' is not defined",
     "output_type": "error",
     "traceback": [
      "\u001b[0;31m---------------------------------------------------------------------------\u001b[0m",
      "\u001b[0;31mNameError\u001b[0m                                 Traceback (most recent call last)",
      "\u001b[0;32m<ipython-input-9-68bf5e90c9ae>\u001b[0m in \u001b[0;36m<module>\u001b[0;34m\u001b[0m\n\u001b[0;32m----> 1\u001b[0;31m \u001b[0mrrcf_res\u001b[0m \u001b[0;34m=\u001b[0m \u001b[0mrrcf\u001b[0m\u001b[0;34m.\u001b[0m\u001b[0mgroupby\u001b[0m\u001b[0;34m(\u001b[0m\u001b[0;34m'dataset'\u001b[0m\u001b[0;34m)\u001b[0m\u001b[0;34m.\u001b[0m\u001b[0mapply\u001b[0m\u001b[0;34m(\u001b[0m\u001b[0mget_mean_conf_interval\u001b[0m\u001b[0;34m)\u001b[0m\u001b[0;34m\u001b[0m\u001b[0;34m\u001b[0m\u001b[0m\n\u001b[0m\u001b[1;32m      2\u001b[0m \u001b[0mrrcf_res\u001b[0m\u001b[0;34m\u001b[0m\u001b[0;34m\u001b[0m\u001b[0m\n",
      "\u001b[0;31mNameError\u001b[0m: name 'rrcf' is not defined"
     ]
    }
   ],
   "source": [
    "rrcf_res = rrcf.groupby('dataset').apply(get_mean_conf_interval)\n",
    "rrcf_res"
   ]
  },
  {
   "cell_type": "code",
   "execution_count": 10,
   "metadata": {},
   "outputs": [],
   "source": [
    "tune = ['BGP_testbed_2', 'BGP_testbed_3']\n",
    "test = ['BGP_testbed_5', 'BGP_testbed_9', 'BGP_testbed_10']"
   ]
  },
  {
   "cell_type": "code",
   "execution_count": 12,
   "metadata": {},
   "outputs": [
    {
     "name": "stdout",
     "output_type": "stream",
     "text": [
      "mean_AP     0.785\n",
      "ci_AP       0.075\n",
      "mean_ROC    0.967\n",
      "ci_ROC      0.016\n",
      "mean_P@3    0.899\n",
      "ci_P@3      0.063\n",
      "mean_P@5    0.776\n",
      "ci_P@5      0.088\n",
      "dtype: float64\n"
     ]
    },
    {
     "ename": "NameError",
     "evalue": "name 'rrcf' is not defined",
     "output_type": "error",
     "traceback": [
      "\u001b[0;31m---------------------------------------------------------------------------\u001b[0m",
      "\u001b[0;31mNameError\u001b[0m                                 Traceback (most recent call last)",
      "\u001b[0;32m<ipython-input-12-cf07a17f8a21>\u001b[0m in \u001b[0;36m<module>\u001b[0;34m\u001b[0m\n\u001b[1;32m      1\u001b[0m \u001b[0mprint\u001b[0m\u001b[0;34m(\u001b[0m\u001b[0mget_mean_conf_interval\u001b[0m\u001b[0;34m(\u001b[0m\u001b[0mods\u001b[0m\u001b[0;34m[\u001b[0m\u001b[0;34m(\u001b[0m\u001b[0mods\u001b[0m\u001b[0;34m[\u001b[0m\u001b[0;34m'dataset'\u001b[0m\u001b[0;34m]\u001b[0m\u001b[0;34m.\u001b[0m\u001b[0misin\u001b[0m\u001b[0;34m(\u001b[0m\u001b[0mtest\u001b[0m\u001b[0;34m)\u001b[0m\u001b[0;34m)\u001b[0m\u001b[0;34m]\u001b[0m\u001b[0;34m)\u001b[0m\u001b[0;34m.\u001b[0m\u001b[0mround\u001b[0m\u001b[0;34m(\u001b[0m\u001b[0;36m3\u001b[0m\u001b[0;34m)\u001b[0m\u001b[0;34m)\u001b[0m\u001b[0;34m\u001b[0m\u001b[0;34m\u001b[0m\u001b[0m\n\u001b[0;32m----> 2\u001b[0;31m \u001b[0mprint\u001b[0m\u001b[0;34m(\u001b[0m\u001b[0mget_mean_conf_interval\u001b[0m\u001b[0;34m(\u001b[0m\u001b[0mrrcf\u001b[0m\u001b[0;34m[\u001b[0m\u001b[0;34m(\u001b[0m\u001b[0mrrcf\u001b[0m\u001b[0;34m[\u001b[0m\u001b[0;34m'dataset'\u001b[0m\u001b[0;34m]\u001b[0m\u001b[0;34m.\u001b[0m\u001b[0misin\u001b[0m\u001b[0;34m(\u001b[0m\u001b[0mtest\u001b[0m\u001b[0;34m)\u001b[0m\u001b[0;34m)\u001b[0m\u001b[0;34m]\u001b[0m\u001b[0;34m)\u001b[0m\u001b[0;34m.\u001b[0m\u001b[0mround\u001b[0m\u001b[0;34m(\u001b[0m\u001b[0;36m3\u001b[0m\u001b[0;34m)\u001b[0m\u001b[0;34m)\u001b[0m\u001b[0;34m\u001b[0m\u001b[0;34m\u001b[0m\u001b[0m\n\u001b[0m",
      "\u001b[0;31mNameError\u001b[0m: name 'rrcf' is not defined"
     ]
    }
   ],
   "source": [
    "print(get_mean_conf_interval(ods[(ods['dataset'].isin(test))]).round(3))\n",
    "print(get_mean_conf_interval(rrcf[(rrcf['dataset'].isin(test))]).round(3))"
   ]
  },
  {
   "cell_type": "code",
   "execution_count": null,
   "metadata": {},
   "outputs": [],
   "source": []
  }
 ],
 "metadata": {
  "kernelspec": {
   "display_name": "Python 3",
   "language": "python",
   "name": "python3"
  },
  "language_info": {
   "codemirror_mode": {
    "name": "ipython",
    "version": 3
   },
   "file_extension": ".py",
   "mimetype": "text/x-python",
   "name": "python",
   "nbconvert_exporter": "python",
   "pygments_lexer": "ipython3",
   "version": "3.6.11"
  }
 },
 "nbformat": 4,
 "nbformat_minor": 4
}
