{
 "cells": [
  {
   "cell_type": "code",
   "execution_count": 1,
   "metadata": {},
   "outputs": [],
   "source": [
    "\"\"\"\n",
    "Imports\n",
    "\"\"\"\n",
    "import json\n",
    "import numpy as np\n",
    "import pandas as pd\n",
    "\n",
    "import sys\n",
    "rootPath = '../../'\n",
    "sys.path.insert(0, rootPath+'Architecture/')\n",
    "\n",
    "from models import Model, read_test_configuration"
   ]
  },
  {
   "cell_type": "code",
   "execution_count": 2,
   "metadata": {},
   "outputs": [],
   "source": [
    "MAX_PROCESSES=30"
   ]
  },
  {
   "cell_type": "code",
   "execution_count": 3,
   "metadata": {},
   "outputs": [
    {
     "data": {
      "text/plain": [
       "{'datasets': ['BGP_testbed_2',\n",
       "  'BGP_testbed_3',\n",
       "  'BGP_testbed_5',\n",
       "  'BGP_testbed_9',\n",
       "  'BGP_testbed_10']}"
      ]
     },
     "execution_count": 3,
     "metadata": {},
     "output_type": "execute_result"
    }
   ],
   "source": [
    "test_configuration = read_test_configuration(rootPath+'configuration.json')\n",
    "test_configuration"
   ]
  },
  {
   "cell_type": "code",
   "execution_count": 4,
   "metadata": {},
   "outputs": [
    {
     "name": "stdout",
     "output_type": "stream",
     "text": [
      "Model: exactSTORM\n",
      "Config: {'datasets': ['BGP_testbed_2', 'BGP_testbed_3', 'BGP_testbed_5', 'BGP_testbed_9', 'BGP_testbed_10']}\n",
      "rootPath: ../../\n",
      "Parameters: {'window': array([ 10,  15,  20,  25,  30,  35,  40,  45,  50,  55,  60,  65,  70,\n",
      "        75,  80,  85,  90,  95, 100]), 'radius': array([ 1.,  2.,  3.,  4.,  5.,  6.,  7.,  8.,  9., 10., 11., 12., 13.,\n",
      "       14., 15., 16., 17., 18., 19., 20.]), 'k': array([2, 3, 4, 5, 6, 7, 8, 9])}\n"
     ]
    }
   ],
   "source": [
    "model = Model(model='exactSTORM', config=test_configuration, rootPath=rootPath, features_set='ALL', MAX_PROCESSES=MAX_PROCESSES)"
   ]
  },
  {
   "cell_type": "code",
   "execution_count": 5,
   "metadata": {
    "scrolled": true
   },
   "outputs": [
    {
     "name": "stdout",
     "output_type": "stream",
     "text": [
      "Loading Data ... \n",
      "Loading Data Done\n",
      "Task: {'dataset': 'BGP_testbed_2', 'node': 'leaf1', 'window': 95, 'radius': 10, 'k': 2}\n",
      "Task: {'dataset': 'BGP_testbed_2', 'node': 'leaf2', 'window': 95, 'radius': 10, 'k': 2}\n",
      "Task: {'dataset': 'BGP_testbed_2', 'node': 'leaf3', 'window': 95, 'radius': 10, 'k': 2}\n",
      "Task: {'dataset': 'BGP_testbed_2', 'node': 'leaf5', 'window': 95, 'radius': 10, 'k': 2}\n",
      "Task: {'dataset': 'BGP_testbed_2', 'node': 'leaf6', 'window': 95, 'radius': 10, 'k': 2}\n",
      "Task: {'dataset': 'BGP_testbed_2', 'node': 'leaf7', 'window': 95, 'radius': 10, 'k': 2}\n",
      "Task: {'dataset': 'BGP_testbed_2', 'node': 'leaf8', 'window': 95, 'radius': 10, 'k': 2}\n",
      "Task: {'dataset': 'BGP_testbed_2', 'node': 'spine1', 'window': 95, 'radius': 10, 'k': 2}\n",
      "Task: {'dataset': 'BGP_testbed_2', 'node': 'spine2', 'window': 95, 'radius': 10, 'k': 2}\n",
      "Task: {'dataset': 'BGP_testbed_2', 'node': 'spine3', 'window': 95, 'radius': 10, 'k': 2}\n",
      "Task: {'dataset': 'BGP_testbed_2', 'node': 'spine4', 'window': 95, 'radius': 10, 'k': 2}\n",
      "Task: {'dataset': 'BGP_testbed_3', 'node': 'leaf1', 'window': 95, 'radius': 10, 'k': 2}\n",
      "Task: {'dataset': 'BGP_testbed_3', 'node': 'leaf2', 'window': 95, 'radius': 10, 'k': 2}\n",
      "Task: {'dataset': 'BGP_testbed_3', 'node': 'leaf3', 'window': 95, 'radius': 10, 'k': 2}\n",
      "Task: {'dataset': 'BGP_testbed_3', 'node': 'leaf5', 'window': 95, 'radius': 10, 'k': 2}\n",
      "Task: {'dataset': 'BGP_testbed_3', 'node': 'leaf6', 'window': 95, 'radius': 10, 'k': 2}\n",
      "Task: {'dataset': 'BGP_testbed_3', 'node': 'leaf7', 'window': 95, 'radius': 10, 'k': 2}\n",
      "Task: {'dataset': 'BGP_testbed_3', 'node': 'leaf8', 'window': 95, 'radius': 10, 'k': 2}\n",
      "Task: {'dataset': 'BGP_testbed_3', 'node': 'spine1', 'window': 95, 'radius': 10, 'k': 2}\n",
      "Task: {'dataset': 'BGP_testbed_3', 'node': 'spine2', 'window': 95, 'radius': 10, 'k': 2}\n",
      "Task: {'dataset': 'BGP_testbed_3', 'node': 'spine3', 'window': 95, 'radius': 10, 'k': 2}\n",
      "Task: {'dataset': 'BGP_testbed_3', 'node': 'spine4', 'window': 95, 'radius': 10, 'k': 2}\n",
      "Task: {'dataset': 'BGP_testbed_5', 'node': 'leaf1', 'window': 95, 'radius': 10, 'k': 2}\n",
      "Task: {'dataset': 'BGP_testbed_5', 'node': 'leaf2', 'window': 95, 'radius': 10, 'k': 2}\n",
      "Task: {'dataset': 'BGP_testbed_5', 'node': 'leaf3', 'window': 95, 'radius': 10, 'k': 2}\n",
      "Task: {'dataset': 'BGP_testbed_5', 'node': 'leaf5', 'window': 95, 'radius': 10, 'k': 2}\n",
      "Task: {'dataset': 'BGP_testbed_5', 'node': 'leaf6', 'window': 95, 'radius': 10, 'k': 2}\n",
      "Task: {'dataset': 'BGP_testbed_5', 'node': 'leaf7', 'window': 95, 'radius': 10, 'k': 2}\n",
      "Task: {'dataset': 'BGP_testbed_5', 'node': 'leaf8', 'window': 95, 'radius': 10, 'k': 2}\n",
      "Task: {'dataset': 'BGP_testbed_5', 'node': 'spine1', 'window': 95, 'radius': 10, 'k': 2}\n",
      "Task: {'dataset': 'BGP_testbed_5', 'node': 'spine2', 'window': 95, 'radius': 10, 'k': 2}\n",
      "Task: {'dataset': 'BGP_testbed_5', 'node': 'spine3', 'window': 95, 'radius': 10, 'k': 2}\n",
      "Task: {'dataset': 'BGP_testbed_5', 'node': 'spine4', 'window': 95, 'radius': 10, 'k': 2}\n",
      "Task: {'dataset': 'BGP_testbed_9', 'node': 'leaf1', 'window': 95, 'radius': 10, 'k': 2}\n",
      "Task: {'dataset': 'BGP_testbed_9', 'node': 'leaf2', 'window': 95, 'radius': 10, 'k': 2}\n",
      "Task: {'dataset': 'BGP_testbed_9', 'node': 'leaf3', 'window': 95, 'radius': 10, 'k': 2}\n",
      "Task: {'dataset': 'BGP_testbed_9', 'node': 'leaf5', 'window': 95, 'radius': 10, 'k': 2}\n",
      "Task: {'dataset': 'BGP_testbed_9', 'node': 'leaf6', 'window': 95, 'radius': 10, 'k': 2}\n",
      "Task: {'dataset': 'BGP_testbed_9', 'node': 'leaf7', 'window': 95, 'radius': 10, 'k': 2}\n",
      "Task: {'dataset': 'BGP_testbed_9', 'node': 'leaf8', 'window': 95, 'radius': 10, 'k': 2}\n",
      "Task: {'dataset': 'BGP_testbed_9', 'node': 'spine1', 'window': 95, 'radius': 10, 'k': 2}\n"
     ]
    },
    {
     "name": "stderr",
     "output_type": "stream",
     "text": [
      "../../Architecture/groundTruth.py:207: RuntimeWarning: invalid value encountered in double_scalars\n",
      "  self.PT = (np.sqrt(self.Recall*(-self.TNR+1))+self.TNR-1)/(self.Recall+self.TNR-1)\n",
      "../../Architecture/groundTruth.py:217: RuntimeWarning: invalid value encountered in double_scalars\n",
      "  self.MCC = (self.tp * self.tn - self.fp*self.fn)/(np.sqrt((self.tp+self.fp)*(self.tp+self.fn)*(self.tn+self.fp)*(self.tn+self.fn)))\n"
     ]
    },
    {
     "name": "stdout",
     "output_type": "stream",
     "text": [
      "Task: {'dataset': 'BGP_testbed_9', 'node': 'spine2', 'window': 95, 'radius': 10, 'k': 2}\n"
     ]
    },
    {
     "name": "stderr",
     "output_type": "stream",
     "text": [
      "../../Architecture/groundTruth.py:207: RuntimeWarning: invalid value encountered in double_scalars\n",
      "  self.PT = (np.sqrt(self.Recall*(-self.TNR+1))+self.TNR-1)/(self.Recall+self.TNR-1)\n",
      "../../Architecture/groundTruth.py:217: RuntimeWarning: invalid value encountered in double_scalars\n",
      "  self.MCC = (self.tp * self.tn - self.fp*self.fn)/(np.sqrt((self.tp+self.fp)*(self.tp+self.fn)*(self.tn+self.fp)*(self.tn+self.fn)))\n"
     ]
    },
    {
     "name": "stdout",
     "output_type": "stream",
     "text": [
      "Task: {'dataset': 'BGP_testbed_9', 'node': 'spine3', 'window': 95, 'radius': 10, 'k': 2}\n",
      "Task: {'dataset': 'BGP_testbed_9', 'node': 'spine4', 'window': 95, 'radius': 10, 'k': 2}\n",
      "Task: {'dataset': 'BGP_testbed_10', 'node': 'leaf1', 'window': 95, 'radius': 10, 'k': 2}\n",
      "Task: {'dataset': 'BGP_testbed_10', 'node': 'leaf2', 'window': 95, 'radius': 10, 'k': 2}\n",
      "Task: {'dataset': 'BGP_testbed_10', 'node': 'leaf3', 'window': 95, 'radius': 10, 'k': 2}\n",
      "Task: {'dataset': 'BGP_testbed_10', 'node': 'leaf5', 'window': 95, 'radius': 10, 'k': 2}\n",
      "Task: {'dataset': 'BGP_testbed_10', 'node': 'leaf6', 'window': 95, 'radius': 10, 'k': 2}\n",
      "Task: {'dataset': 'BGP_testbed_10', 'node': 'leaf7', 'window': 95, 'radius': 10, 'k': 2}\n",
      "Task: {'dataset': 'BGP_testbed_10', 'node': 'leaf8', 'window': 95, 'radius': 10, 'k': 2}\n",
      "Task: {'dataset': 'BGP_testbed_10', 'node': 'spine1', 'window': 95, 'radius': 10, 'k': 2}\n",
      "Task: {'dataset': 'BGP_testbed_10', 'node': 'spine2', 'window': 95, 'radius': 10, 'k': 2}\n",
      "Task: {'dataset': 'BGP_testbed_10', 'node': 'spine3', 'window': 95, 'radius': 10, 'k': 2}\n",
      "Task: {'dataset': 'BGP_testbed_10', 'node': 'spine4', 'window': 95, 'radius': 10, 'k': 2}\n"
     ]
    },
    {
     "name": "stderr",
     "output_type": "stream",
     "text": [
      "/cal/homes/aputina/miniconda3/envs/ods_env/lib/python3.8/site-packages/scipy/stats/_distn_infrastructure.py:2023: RuntimeWarning: invalid value encountered in multiply\n",
      "  lower_bound = _a * scale + loc\n",
      "/cal/homes/aputina/miniconda3/envs/ods_env/lib/python3.8/site-packages/scipy/stats/_distn_infrastructure.py:2024: RuntimeWarning: invalid value encountered in multiply\n",
      "  upper_bound = _b * scale + loc\n"
     ]
    },
    {
     "name": "stdout",
     "output_type": "stream",
     "text": [
      "CPU times: user 6.51 s, sys: 2.5 s, total: 9.01 s\n",
      "Wall time: 21.7 s\n"
     ]
    }
   ],
   "source": [
    "%%time\n",
    "model.run()"
   ]
  },
  {
   "cell_type": "code",
   "execution_count": 6,
   "metadata": {
    "scrolled": true
   },
   "outputs": [
    {
     "data": {
      "text/html": [
       "<div>\n",
       "<style scoped>\n",
       "    .dataframe tbody tr th:only-of-type {\n",
       "        vertical-align: middle;\n",
       "    }\n",
       "\n",
       "    .dataframe tbody tr th {\n",
       "        vertical-align: top;\n",
       "    }\n",
       "\n",
       "    .dataframe thead th {\n",
       "        text-align: right;\n",
       "    }\n",
       "</style>\n",
       "<table border=\"1\" class=\"dataframe\">\n",
       "  <thead>\n",
       "    <tr style=\"text-align: right;\">\n",
       "      <th></th>\n",
       "      <th>avg_prec</th>\n",
       "      <th>avg_rec</th>\n",
       "      <th>avg_fscore</th>\n",
       "      <th>avg_TNR</th>\n",
       "      <th>avg_NPV</th>\n",
       "      <th>avg_FNR</th>\n",
       "      <th>avg_FDR</th>\n",
       "      <th>avg_FOR</th>\n",
       "      <th>avg_TS</th>\n",
       "      <th>avg_PT</th>\n",
       "      <th>...</th>\n",
       "      <th>ci_ACC_low</th>\n",
       "      <th>ci_ACC_high</th>\n",
       "      <th>ci_MCC_low</th>\n",
       "      <th>ci_MCC_high</th>\n",
       "      <th>ci_MK_low</th>\n",
       "      <th>ci_MK_high</th>\n",
       "      <th>ci_BM_low</th>\n",
       "      <th>ci_BM_high</th>\n",
       "      <th>ci_FM_low</th>\n",
       "      <th>ci_FM_high</th>\n",
       "    </tr>\n",
       "    <tr>\n",
       "      <th>dataset</th>\n",
       "      <th></th>\n",
       "      <th></th>\n",
       "      <th></th>\n",
       "      <th></th>\n",
       "      <th></th>\n",
       "      <th></th>\n",
       "      <th></th>\n",
       "      <th></th>\n",
       "      <th></th>\n",
       "      <th></th>\n",
       "      <th></th>\n",
       "      <th></th>\n",
       "      <th></th>\n",
       "      <th></th>\n",
       "      <th></th>\n",
       "      <th></th>\n",
       "      <th></th>\n",
       "      <th></th>\n",
       "      <th></th>\n",
       "      <th></th>\n",
       "      <th></th>\n",
       "    </tr>\n",
       "  </thead>\n",
       "  <tbody>\n",
       "    <tr>\n",
       "      <th>BGP_testbed_10</th>\n",
       "      <td>1.0</td>\n",
       "      <td>0.236364</td>\n",
       "      <td>0.594406</td>\n",
       "      <td>1.0</td>\n",
       "      <td>0.977913</td>\n",
       "      <td>0.763636</td>\n",
       "      <td>0.0</td>\n",
       "      <td>0.022087</td>\n",
       "      <td>0.236364</td>\n",
       "      <td>0.0</td>\n",
       "      <td>...</td>\n",
       "      <td>0.001547</td>\n",
       "      <td>0.001547</td>\n",
       "      <td>0.050244</td>\n",
       "      <td>0.050244</td>\n",
       "      <td>0.001528</td>\n",
       "      <td>0.001528</td>\n",
       "      <td>0.054352</td>\n",
       "      <td>0.054352</td>\n",
       "      <td>0.050341</td>\n",
       "      <td>0.050341</td>\n",
       "    </tr>\n",
       "    <tr>\n",
       "      <th>BGP_testbed_2</th>\n",
       "      <td>1.0</td>\n",
       "      <td>0.714286</td>\n",
       "      <td>0.920637</td>\n",
       "      <td>1.0</td>\n",
       "      <td>0.992819</td>\n",
       "      <td>0.285714</td>\n",
       "      <td>0.0</td>\n",
       "      <td>0.007181</td>\n",
       "      <td>0.714286</td>\n",
       "      <td>0.0</td>\n",
       "      <td>...</td>\n",
       "      <td>0.002110</td>\n",
       "      <td>0.002110</td>\n",
       "      <td>0.051775</td>\n",
       "      <td>0.051775</td>\n",
       "      <td>0.002133</td>\n",
       "      <td>0.002133</td>\n",
       "      <td>0.085841</td>\n",
       "      <td>0.085841</td>\n",
       "      <td>0.051060</td>\n",
       "      <td>0.051060</td>\n",
       "    </tr>\n",
       "    <tr>\n",
       "      <th>BGP_testbed_3</th>\n",
       "      <td>1.0</td>\n",
       "      <td>0.693182</td>\n",
       "      <td>0.907558</td>\n",
       "      <td>1.0</td>\n",
       "      <td>0.987457</td>\n",
       "      <td>0.306818</td>\n",
       "      <td>0.0</td>\n",
       "      <td>0.012543</td>\n",
       "      <td>0.693182</td>\n",
       "      <td>0.0</td>\n",
       "      <td>...</td>\n",
       "      <td>0.004807</td>\n",
       "      <td>0.004807</td>\n",
       "      <td>0.074221</td>\n",
       "      <td>0.074221</td>\n",
       "      <td>0.004890</td>\n",
       "      <td>0.004890</td>\n",
       "      <td>0.120900</td>\n",
       "      <td>0.120900</td>\n",
       "      <td>0.072612</td>\n",
       "      <td>0.072612</td>\n",
       "    </tr>\n",
       "    <tr>\n",
       "      <th>BGP_testbed_5</th>\n",
       "      <td>1.0</td>\n",
       "      <td>0.598485</td>\n",
       "      <td>0.873914</td>\n",
       "      <td>1.0</td>\n",
       "      <td>0.995103</td>\n",
       "      <td>0.401515</td>\n",
       "      <td>0.0</td>\n",
       "      <td>0.004897</td>\n",
       "      <td>0.598485</td>\n",
       "      <td>0.0</td>\n",
       "      <td>...</td>\n",
       "      <td>0.001037</td>\n",
       "      <td>0.001037</td>\n",
       "      <td>0.056098</td>\n",
       "      <td>0.056098</td>\n",
       "      <td>0.001040</td>\n",
       "      <td>0.001040</td>\n",
       "      <td>0.086071</td>\n",
       "      <td>0.086071</td>\n",
       "      <td>0.055832</td>\n",
       "      <td>0.055832</td>\n",
       "    </tr>\n",
       "    <tr>\n",
       "      <th>BGP_testbed_9</th>\n",
       "      <td>1.0</td>\n",
       "      <td>0.309091</td>\n",
       "      <td>0.711971</td>\n",
       "      <td>1.0</td>\n",
       "      <td>0.974298</td>\n",
       "      <td>0.690909</td>\n",
       "      <td>0.0</td>\n",
       "      <td>0.025702</td>\n",
       "      <td>0.309091</td>\n",
       "      <td>0.0</td>\n",
       "      <td>...</td>\n",
       "      <td>0.005579</td>\n",
       "      <td>0.005579</td>\n",
       "      <td>0.000000</td>\n",
       "      <td>0.000000</td>\n",
       "      <td>0.000000</td>\n",
       "      <td>0.000000</td>\n",
       "      <td>0.151581</td>\n",
       "      <td>0.151581</td>\n",
       "      <td>0.000000</td>\n",
       "      <td>0.000000</td>\n",
       "    </tr>\n",
       "  </tbody>\n",
       "</table>\n",
       "<p>5 rows × 48 columns</p>\n",
       "</div>"
      ],
      "text/plain": [
       "                avg_prec   avg_rec  avg_fscore  avg_TNR   avg_NPV   avg_FNR  \\\n",
       "dataset                                                                       \n",
       "BGP_testbed_10       1.0  0.236364    0.594406      1.0  0.977913  0.763636   \n",
       "BGP_testbed_2        1.0  0.714286    0.920637      1.0  0.992819  0.285714   \n",
       "BGP_testbed_3        1.0  0.693182    0.907558      1.0  0.987457  0.306818   \n",
       "BGP_testbed_5        1.0  0.598485    0.873914      1.0  0.995103  0.401515   \n",
       "BGP_testbed_9        1.0  0.309091    0.711971      1.0  0.974298  0.690909   \n",
       "\n",
       "                avg_FDR   avg_FOR    avg_TS  avg_PT  ...  ci_ACC_low  \\\n",
       "dataset                                              ...               \n",
       "BGP_testbed_10      0.0  0.022087  0.236364     0.0  ...    0.001547   \n",
       "BGP_testbed_2       0.0  0.007181  0.714286     0.0  ...    0.002110   \n",
       "BGP_testbed_3       0.0  0.012543  0.693182     0.0  ...    0.004807   \n",
       "BGP_testbed_5       0.0  0.004897  0.598485     0.0  ...    0.001037   \n",
       "BGP_testbed_9       0.0  0.025702  0.309091     0.0  ...    0.005579   \n",
       "\n",
       "                ci_ACC_high  ci_MCC_low  ci_MCC_high  ci_MK_low  ci_MK_high  \\\n",
       "dataset                                                                       \n",
       "BGP_testbed_10     0.001547    0.050244     0.050244   0.001528    0.001528   \n",
       "BGP_testbed_2      0.002110    0.051775     0.051775   0.002133    0.002133   \n",
       "BGP_testbed_3      0.004807    0.074221     0.074221   0.004890    0.004890   \n",
       "BGP_testbed_5      0.001037    0.056098     0.056098   0.001040    0.001040   \n",
       "BGP_testbed_9      0.005579    0.000000     0.000000   0.000000    0.000000   \n",
       "\n",
       "                ci_BM_low  ci_BM_high  ci_FM_low  ci_FM_high  \n",
       "dataset                                                       \n",
       "BGP_testbed_10   0.054352    0.054352   0.050341    0.050341  \n",
       "BGP_testbed_2    0.085841    0.085841   0.051060    0.051060  \n",
       "BGP_testbed_3    0.120900    0.120900   0.072612    0.072612  \n",
       "BGP_testbed_5    0.086071    0.086071   0.055832    0.055832  \n",
       "BGP_testbed_9    0.151581    0.151581   0.000000    0.000000  \n",
       "\n",
       "[5 rows x 48 columns]"
      ]
     },
     "execution_count": 6,
     "metadata": {},
     "output_type": "execute_result"
    }
   ],
   "source": [
    "model.results"
   ]
  },
  {
   "cell_type": "code",
   "execution_count": 7,
   "metadata": {
    "scrolled": true
   },
   "outputs": [
    {
     "data": {
      "text/plain": [
       "avg_prec          1.000000\n",
       "avg_rec           0.381313\n",
       "avg_fscore        0.726764\n",
       "avg_TNR           1.000000\n",
       "avg_NPV           0.982438\n",
       "avg_FNR           0.618687\n",
       "avg_FDR           0.000000\n",
       "avg_FOR           0.017562\n",
       "avg_TS            0.381313\n",
       "avg_PT            0.000000\n",
       "avg_FPR           0.000000\n",
       "avg_ACC           0.982575\n",
       "avg_MCC           0.611446\n",
       "avg_MK            0.983258\n",
       "avg_BM            0.381313\n",
       "avg_FM            0.615983\n",
       "ci_prec_low       0.000000\n",
       "ci_prec_high      0.000000\n",
       "ci_rec_low        0.097334\n",
       "ci_rec_high       0.097334\n",
       "ci_fscore_low     0.032224\n",
       "ci_fscore_high    0.032224\n",
       "ci_TNR_low        0.000000\n",
       "ci_TNR_high       0.000000\n",
       "ci_NPV_low        0.002691\n",
       "ci_NPV_high       0.002691\n",
       "ci_FNR_low        0.097334\n",
       "ci_FNR_high       0.097334\n",
       "ci_FDR_low        0.000000\n",
       "ci_FDR_high       0.000000\n",
       "ci_FOR_low        0.002691\n",
       "ci_FOR_high       0.002691\n",
       "ci_TS_low         0.097334\n",
       "ci_TS_high        0.097334\n",
       "ci_PT_low         0.000000\n",
       "ci_PT_high        0.000000\n",
       "ci_FPR_low        0.000000\n",
       "ci_FPR_high       0.000000\n",
       "ci_ACC_low        0.002721\n",
       "ci_ACC_high       0.002721\n",
       "ci_MCC_low        0.035447\n",
       "ci_MCC_high       0.035447\n",
       "ci_MK_low         0.000856\n",
       "ci_MK_high        0.000856\n",
       "ci_BM_low         0.097334\n",
       "ci_BM_high        0.097334\n",
       "ci_FM_low         0.035391\n",
       "ci_FM_high        0.035391\n",
       "dtype: float64"
      ]
     },
     "execution_count": 7,
     "metadata": {},
     "output_type": "execute_result"
    }
   ],
   "source": [
    "model.results.loc[['BGP_testbed_5', 'BGP_testbed_9', 'BGP_testbed_10']].mean()"
   ]
  }
 ],
 "metadata": {
  "kernelspec": {
   "display_name": "Python 3",
   "language": "python",
   "name": "python3"
  },
  "language_info": {
   "codemirror_mode": {
    "name": "ipython",
    "version": 3
   },
   "file_extension": ".py",
   "mimetype": "text/x-python",
   "name": "python",
   "nbconvert_exporter": "python",
   "pygments_lexer": "ipython3",
   "version": "3.8.5"
  }
 },
 "nbformat": 4,
 "nbformat_minor": 4
}
