{
 "cells": [
  {
   "cell_type": "code",
   "execution_count": 1,
   "metadata": {},
   "outputs": [],
   "source": [
    "\"\"\"\n",
    "Imports\n",
    "\"\"\"\n",
    "import json\n",
    "import numpy as np\n",
    "import pandas as pd\n",
    "\n",
    "import sys\n",
    "rootPath = '../../'\n",
    "sys.path.insert(0, rootPath+'Architecture/')\n",
    "\n",
    "from models import Model, read_test_configuration"
   ]
  },
  {
   "cell_type": "code",
   "execution_count": 2,
   "metadata": {},
   "outputs": [
    {
     "data": {
      "text/plain": [
       "{'datasets': ['BGP_testbed_2',\n",
       "  'BGP_testbed_3',\n",
       "  'BGP_testbed_5',\n",
       "  'BGP_testbed_9',\n",
       "  'BGP_testbed_10']}"
      ]
     },
     "execution_count": 2,
     "metadata": {},
     "output_type": "execute_result"
    }
   ],
   "source": [
    "test_configuration = read_test_configuration(rootPath+'configuration.json')\n",
    "test_configuration"
   ]
  },
  {
   "cell_type": "code",
   "execution_count": 3,
   "metadata": {},
   "outputs": [
    {
     "name": "stdout",
     "output_type": "stream",
     "text": [
      "Model: exactSTORM\n",
      "Config: {'datasets': ['BGP_testbed_2', 'BGP_testbed_3', 'BGP_testbed_5', 'BGP_testbed_9', 'BGP_testbed_10']}\n",
      "rootPath: ../../\n",
      "Parameters: {'window': array([ 10,  15,  20,  25,  30,  35,  40,  45,  50,  55,  60,  65,  70,\n",
      "        75,  80,  85,  90,  95, 100]), 'radius': array([ 1.,  2.,  3.,  4.,  5.,  6.,  7.,  8.,  9., 10., 11., 12., 13.,\n",
      "       14., 15., 16., 17., 18., 19., 20.]), 'k': array([2, 3, 4, 5, 6, 7, 8, 9]), 'query_timespan': array([1])}\n"
     ]
    }
   ],
   "source": [
    "model = Model(model='exactSTORM', config=test_configuration, rootPath=rootPath, features_set='ALL')"
   ]
  },
  {
   "cell_type": "code",
   "execution_count": 4,
   "metadata": {
    "scrolled": true
   },
   "outputs": [
    {
     "name": "stdout",
     "output_type": "stream",
     "text": [
      "Loading Data ... \n",
      "Loading Data Done\n",
      "Task: {'dataset': 'BGP_testbed_2', 'node': 'leaf1', 'window': 80, 'radius': 12.5, 'k': 2, 'query_timespan': 2}\n",
      "Task: {'dataset': 'BGP_testbed_2', 'node': 'leaf2', 'window': 80, 'radius': 12.5, 'k': 2, 'query_timespan': 2}\n",
      "Task: {'dataset': 'BGP_testbed_2', 'node': 'leaf3', 'window': 80, 'radius': 12.5, 'k': 2, 'query_timespan': 2}\n",
      "Task: {'dataset': 'BGP_testbed_2', 'node': 'leaf5', 'window': 80, 'radius': 12.5, 'k': 2, 'query_timespan': 2}\n",
      "Task: {'dataset': 'BGP_testbed_2', 'node': 'leaf6', 'window': 80, 'radius': 12.5, 'k': 2, 'query_timespan': 2}\n",
      "Task: {'dataset': 'BGP_testbed_2', 'node': 'leaf7', 'window': 80, 'radius': 12.5, 'k': 2, 'query_timespan': 2}\n",
      "Task: {'dataset': 'BGP_testbed_2', 'node': 'leaf8', 'window': 80, 'radius': 12.5, 'k': 2, 'query_timespan': 2}\n",
      "Task: {'dataset': 'BGP_testbed_2', 'node': 'spine1', 'window': 80, 'radius': 12.5, 'k': 2, 'query_timespan': 2}\n",
      "Task: {'dataset': 'BGP_testbed_2', 'node': 'spine2', 'window': 80, 'radius': 12.5, 'k': 2, 'query_timespan': 2}\n",
      "Task: {'dataset': 'BGP_testbed_2', 'node': 'spine3', 'window': 80, 'radius': 12.5, 'k': 2, 'query_timespan': 2}\n",
      "Task: {'dataset': 'BGP_testbed_2', 'node': 'spine4', 'window': 80, 'radius': 12.5, 'k': 2, 'query_timespan': 2}\n",
      "Task: {'dataset': 'BGP_testbed_3', 'node': 'leaf1', 'window': 80, 'radius': 12.5, 'k': 2, 'query_timespan': 2}\n",
      "Task: {'dataset': 'BGP_testbed_3', 'node': 'leaf2', 'window': 80, 'radius': 12.5, 'k': 2, 'query_timespan': 2}\n",
      "Task: {'dataset': 'BGP_testbed_3', 'node': 'leaf3', 'window': 80, 'radius': 12.5, 'k': 2, 'query_timespan': 2}\n",
      "Task: {'dataset': 'BGP_testbed_3', 'node': 'leaf5', 'window': 80, 'radius': 12.5, 'k': 2, 'query_timespan': 2}\n",
      "Task: {'dataset': 'BGP_testbed_3', 'node': 'leaf6', 'window': 80, 'radius': 12.5, 'k': 2, 'query_timespan': 2}\n",
      "Task: {'dataset': 'BGP_testbed_3', 'node': 'leaf7', 'window': 80, 'radius': 12.5, 'k': 2, 'query_timespan': 2}\n",
      "Task: {'dataset': 'BGP_testbed_3', 'node': 'leaf8', 'window': 80, 'radius': 12.5, 'k': 2, 'query_timespan': 2}\n",
      "Task: {'dataset': 'BGP_testbed_3', 'node': 'spine1', 'window': 80, 'radius': 12.5, 'k': 2, 'query_timespan': 2}\n",
      "Task: {'dataset': 'BGP_testbed_3', 'node': 'spine2', 'window': 80, 'radius': 12.5, 'k': 2, 'query_timespan': 2}\n",
      "Task: {'dataset': 'BGP_testbed_3', 'node': 'spine3', 'window': 80, 'radius': 12.5, 'k': 2, 'query_timespan': 2}\n",
      "Task: {'dataset': 'BGP_testbed_3', 'node': 'spine4', 'window': 80, 'radius': 12.5, 'k': 2, 'query_timespan': 2}\n",
      "Task: {'dataset': 'BGP_testbed_5', 'node': 'leaf1', 'window': 80, 'radius': 12.5, 'k': 2, 'query_timespan': 2}\n",
      "Task: {'dataset': 'BGP_testbed_5', 'node': 'leaf2', 'window': 80, 'radius': 12.5, 'k': 2, 'query_timespan': 2}\n",
      "Task: {'dataset': 'BGP_testbed_5', 'node': 'leaf3', 'window': 80, 'radius': 12.5, 'k': 2, 'query_timespan': 2}\n",
      "Task: {'dataset': 'BGP_testbed_5', 'node': 'leaf5', 'window': 80, 'radius': 12.5, 'k': 2, 'query_timespan': 2}\n",
      "Task: {'dataset': 'BGP_testbed_5', 'node': 'leaf6', 'window': 80, 'radius': 12.5, 'k': 2, 'query_timespan': 2}\n",
      "Task: {'dataset': 'BGP_testbed_5', 'node': 'leaf7', 'window': 80, 'radius': 12.5, 'k': 2, 'query_timespan': 2}\n",
      "Task: {'dataset': 'BGP_testbed_5', 'node': 'leaf8', 'window': 80, 'radius': 12.5, 'k': 2, 'query_timespan': 2}\n",
      "Task: {'dataset': 'BGP_testbed_5', 'node': 'spine1', 'window': 80, 'radius': 12.5, 'k': 2, 'query_timespan': 2}\n",
      "Task: {'dataset': 'BGP_testbed_5', 'node': 'spine2', 'window': 80, 'radius': 12.5, 'k': 2, 'query_timespan': 2}\n",
      "Task: {'dataset': 'BGP_testbed_5', 'node': 'spine3', 'window': 80, 'radius': 12.5, 'k': 2, 'query_timespan': 2}\n",
      "Task: {'dataset': 'BGP_testbed_5', 'node': 'spine4', 'window': 80, 'radius': 12.5, 'k': 2, 'query_timespan': 2}\n",
      "Task: {'dataset': 'BGP_testbed_9', 'node': 'leaf1', 'window': 80, 'radius': 12.5, 'k': 2, 'query_timespan': 2}\n",
      "Task: {'dataset': 'BGP_testbed_9', 'node': 'leaf2', 'window': 80, 'radius': 12.5, 'k': 2, 'query_timespan': 2}\n"
     ]
    },
    {
     "name": "stderr",
     "output_type": "stream",
     "text": [
      "../../Architecture/groundTruth.py:207: RuntimeWarning: invalid value encountered in double_scalars\n",
      "  self.PT = (np.sqrt(self.Recall*(-self.TNR+1))+self.TNR-1)/(self.Recall+self.TNR-1)\n",
      "../../Architecture/groundTruth.py:217: RuntimeWarning: invalid value encountered in double_scalars\n",
      "  self.MCC = (self.tp * self.tn - self.fp*self.fn)/(np.sqrt((self.tp+self.fp)*(self.tp+self.fn)*(self.tn+self.fp)*(self.tn+self.fn)))\n"
     ]
    },
    {
     "name": "stdout",
     "output_type": "stream",
     "text": [
      "Task: {'dataset': 'BGP_testbed_9', 'node': 'leaf3', 'window': 80, 'radius': 12.5, 'k': 2, 'query_timespan': 2}\n",
      "Task: {'dataset': 'BGP_testbed_9', 'node': 'leaf5', 'window': 80, 'radius': 12.5, 'k': 2, 'query_timespan': 2}\n",
      "Task: {'dataset': 'BGP_testbed_9', 'node': 'leaf6', 'window': 80, 'radius': 12.5, 'k': 2, 'query_timespan': 2}\n",
      "Task: {'dataset': 'BGP_testbed_9', 'node': 'leaf7', 'window': 80, 'radius': 12.5, 'k': 2, 'query_timespan': 2}\n"
     ]
    },
    {
     "name": "stderr",
     "output_type": "stream",
     "text": [
      "../../Architecture/groundTruth.py:207: RuntimeWarning: invalid value encountered in double_scalars\n",
      "  self.PT = (np.sqrt(self.Recall*(-self.TNR+1))+self.TNR-1)/(self.Recall+self.TNR-1)\n",
      "../../Architecture/groundTruth.py:217: RuntimeWarning: invalid value encountered in double_scalars\n",
      "  self.MCC = (self.tp * self.tn - self.fp*self.fn)/(np.sqrt((self.tp+self.fp)*(self.tp+self.fn)*(self.tn+self.fp)*(self.tn+self.fn)))\n"
     ]
    },
    {
     "name": "stdout",
     "output_type": "stream",
     "text": [
      "Task: {'dataset': 'BGP_testbed_9', 'node': 'leaf8', 'window': 80, 'radius': 12.5, 'k': 2, 'query_timespan': 2}\n"
     ]
    },
    {
     "name": "stderr",
     "output_type": "stream",
     "text": [
      "../../Architecture/groundTruth.py:207: RuntimeWarning: invalid value encountered in double_scalars\n",
      "  self.PT = (np.sqrt(self.Recall*(-self.TNR+1))+self.TNR-1)/(self.Recall+self.TNR-1)\n",
      "../../Architecture/groundTruth.py:217: RuntimeWarning: invalid value encountered in double_scalars\n",
      "  self.MCC = (self.tp * self.tn - self.fp*self.fn)/(np.sqrt((self.tp+self.fp)*(self.tp+self.fn)*(self.tn+self.fp)*(self.tn+self.fn)))\n",
      "../../Architecture/groundTruth.py:207: RuntimeWarning: invalid value encountered in double_scalars\n",
      "  self.PT = (np.sqrt(self.Recall*(-self.TNR+1))+self.TNR-1)/(self.Recall+self.TNR-1)\n",
      "../../Architecture/groundTruth.py:217: RuntimeWarning: invalid value encountered in double_scalars\n",
      "  self.MCC = (self.tp * self.tn - self.fp*self.fn)/(np.sqrt((self.tp+self.fp)*(self.tp+self.fn)*(self.tn+self.fp)*(self.tn+self.fn)))\n"
     ]
    },
    {
     "name": "stdout",
     "output_type": "stream",
     "text": [
      "Task: {'dataset': 'BGP_testbed_9', 'node': 'spine1', 'window': 80, 'radius': 12.5, 'k': 2, 'query_timespan': 2}\n",
      "Task: {'dataset': 'BGP_testbed_9', 'node': 'spine2', 'window': 80, 'radius': 12.5, 'k': 2, 'query_timespan': 2}\n",
      "Task: {'dataset': 'BGP_testbed_9', 'node': 'spine3', 'window': 80, 'radius': 12.5, 'k': 2, 'query_timespan': 2}\n",
      "Task: {'dataset': 'BGP_testbed_9', 'node': 'spine4', 'window': 80, 'radius': 12.5, 'k': 2, 'query_timespan': 2}\n",
      "Task: {'dataset': 'BGP_testbed_10', 'node': 'leaf1', 'window': 80, 'radius': 12.5, 'k': 2, 'query_timespan': 2}\n",
      "Task: {'dataset': 'BGP_testbed_10', 'node': 'leaf2', 'window': 80, 'radius': 12.5, 'k': 2, 'query_timespan': 2}\n",
      "Task: {'dataset': 'BGP_testbed_10', 'node': 'leaf3', 'window': 80, 'radius': 12.5, 'k': 2, 'query_timespan': 2}\n",
      "Task: {'dataset': 'BGP_testbed_10', 'node': 'leaf5', 'window': 80, 'radius': 12.5, 'k': 2, 'query_timespan': 2}\n",
      "Task: {'dataset': 'BGP_testbed_10', 'node': 'leaf6', 'window': 80, 'radius': 12.5, 'k': 2, 'query_timespan': 2}\n",
      "Task: {'dataset': 'BGP_testbed_10', 'node': 'leaf7', 'window': 80, 'radius': 12.5, 'k': 2, 'query_timespan': 2}\n",
      "Task: {'dataset': 'BGP_testbed_10', 'node': 'leaf8', 'window': 80, 'radius': 12.5, 'k': 2, 'query_timespan': 2}\n",
      "Task: {'dataset': 'BGP_testbed_10', 'node': 'spine1', 'window': 80, 'radius': 12.5, 'k': 2, 'query_timespan': 2}\n"
     ]
    },
    {
     "name": "stderr",
     "output_type": "stream",
     "text": [
      "../../Architecture/groundTruth.py:207: RuntimeWarning: invalid value encountered in double_scalars\n",
      "  self.PT = (np.sqrt(self.Recall*(-self.TNR+1))+self.TNR-1)/(self.Recall+self.TNR-1)\n",
      "../../Architecture/groundTruth.py:217: RuntimeWarning: invalid value encountered in double_scalars\n",
      "  self.MCC = (self.tp * self.tn - self.fp*self.fn)/(np.sqrt((self.tp+self.fp)*(self.tp+self.fn)*(self.tn+self.fp)*(self.tn+self.fn)))\n"
     ]
    },
    {
     "name": "stdout",
     "output_type": "stream",
     "text": [
      "Task: {'dataset': 'BGP_testbed_10', 'node': 'spine2', 'window': 80, 'radius': 12.5, 'k': 2, 'query_timespan': 2}\n",
      "Task: {'dataset': 'BGP_testbed_10', 'node': 'spine3', 'window': 80, 'radius': 12.5, 'k': 2, 'query_timespan': 2}\n"
     ]
    },
    {
     "name": "stderr",
     "output_type": "stream",
     "text": [
      "../../Architecture/groundTruth.py:207: RuntimeWarning: invalid value encountered in double_scalars\n",
      "  self.PT = (np.sqrt(self.Recall*(-self.TNR+1))+self.TNR-1)/(self.Recall+self.TNR-1)\n",
      "../../Architecture/groundTruth.py:217: RuntimeWarning: invalid value encountered in double_scalars\n",
      "  self.MCC = (self.tp * self.tn - self.fp*self.fn)/(np.sqrt((self.tp+self.fp)*(self.tp+self.fn)*(self.tn+self.fp)*(self.tn+self.fn)))\n"
     ]
    },
    {
     "name": "stdout",
     "output_type": "stream",
     "text": [
      "Task: {'dataset': 'BGP_testbed_10', 'node': 'spine4', 'window': 80, 'radius': 12.5, 'k': 2, 'query_timespan': 2}\n"
     ]
    },
    {
     "name": "stderr",
     "output_type": "stream",
     "text": [
      "/cal/homes/aputina/env-journal-ods/lib64/python3.8/site-packages/scipy/stats/_distn_infrastructure.py:2023: RuntimeWarning: invalid value encountered in multiply\n",
      "  lower_bound = _a * scale + loc\n",
      "/cal/homes/aputina/env-journal-ods/lib64/python3.8/site-packages/scipy/stats/_distn_infrastructure.py:2024: RuntimeWarning: invalid value encountered in multiply\n",
      "  upper_bound = _b * scale + loc\n"
     ]
    },
    {
     "name": "stdout",
     "output_type": "stream",
     "text": [
      "CPU times: user 5.1 s, sys: 2 s, total: 7.1 s\n",
      "Wall time: 10.5 s\n"
     ]
    }
   ],
   "source": [
    "%%time\n",
    "model.run()"
   ]
  },
  {
   "cell_type": "code",
   "execution_count": 5,
   "metadata": {
    "scrolled": true
   },
   "outputs": [
    {
     "data": {
      "text/html": [
       "<div>\n",
       "<style scoped>\n",
       "    .dataframe tbody tr th:only-of-type {\n",
       "        vertical-align: middle;\n",
       "    }\n",
       "\n",
       "    .dataframe tbody tr th {\n",
       "        vertical-align: top;\n",
       "    }\n",
       "\n",
       "    .dataframe thead th {\n",
       "        text-align: right;\n",
       "    }\n",
       "</style>\n",
       "<table border=\"1\" class=\"dataframe\">\n",
       "  <thead>\n",
       "    <tr style=\"text-align: right;\">\n",
       "      <th></th>\n",
       "      <th>avg_prec</th>\n",
       "      <th>avg_rec</th>\n",
       "      <th>avg_fscore</th>\n",
       "      <th>avg_TNR</th>\n",
       "      <th>avg_NPV</th>\n",
       "      <th>avg_FNR</th>\n",
       "      <th>avg_FDR</th>\n",
       "      <th>avg_FOR</th>\n",
       "      <th>avg_TS</th>\n",
       "      <th>avg_PT</th>\n",
       "      <th>...</th>\n",
       "      <th>ci_ACC_low</th>\n",
       "      <th>ci_ACC_high</th>\n",
       "      <th>ci_MCC_low</th>\n",
       "      <th>ci_MCC_high</th>\n",
       "      <th>ci_MK_low</th>\n",
       "      <th>ci_MK_high</th>\n",
       "      <th>ci_BM_low</th>\n",
       "      <th>ci_BM_high</th>\n",
       "      <th>ci_FM_low</th>\n",
       "      <th>ci_FM_high</th>\n",
       "    </tr>\n",
       "    <tr>\n",
       "      <th>dataset</th>\n",
       "      <th></th>\n",
       "      <th></th>\n",
       "      <th></th>\n",
       "      <th></th>\n",
       "      <th></th>\n",
       "      <th></th>\n",
       "      <th></th>\n",
       "      <th></th>\n",
       "      <th></th>\n",
       "      <th></th>\n",
       "      <th></th>\n",
       "      <th></th>\n",
       "      <th></th>\n",
       "      <th></th>\n",
       "      <th></th>\n",
       "      <th></th>\n",
       "      <th></th>\n",
       "      <th></th>\n",
       "      <th></th>\n",
       "      <th></th>\n",
       "      <th></th>\n",
       "    </tr>\n",
       "  </thead>\n",
       "  <tbody>\n",
       "    <tr>\n",
       "      <th>BGP_testbed_10</th>\n",
       "      <td>1.0</td>\n",
       "      <td>0.181818</td>\n",
       "      <td>0.579297</td>\n",
       "      <td>1.0</td>\n",
       "      <td>0.976385</td>\n",
       "      <td>0.818182</td>\n",
       "      <td>0.0</td>\n",
       "      <td>0.023615</td>\n",
       "      <td>0.181818</td>\n",
       "      <td>0.0</td>\n",
       "      <td>...</td>\n",
       "      <td>0.002020</td>\n",
       "      <td>0.002020</td>\n",
       "      <td>0.000000</td>\n",
       "      <td>0.000000</td>\n",
       "      <td>0.000000</td>\n",
       "      <td>0.000000</td>\n",
       "      <td>0.072469</td>\n",
       "      <td>0.072469</td>\n",
       "      <td>0.000000</td>\n",
       "      <td>0.000000</td>\n",
       "    </tr>\n",
       "    <tr>\n",
       "      <th>BGP_testbed_2</th>\n",
       "      <td>1.0</td>\n",
       "      <td>0.532468</td>\n",
       "      <td>0.831730</td>\n",
       "      <td>1.0</td>\n",
       "      <td>0.988322</td>\n",
       "      <td>0.467532</td>\n",
       "      <td>0.0</td>\n",
       "      <td>0.011678</td>\n",
       "      <td>0.532468</td>\n",
       "      <td>0.0</td>\n",
       "      <td>...</td>\n",
       "      <td>0.002974</td>\n",
       "      <td>0.002974</td>\n",
       "      <td>0.082780</td>\n",
       "      <td>0.082780</td>\n",
       "      <td>0.002984</td>\n",
       "      <td>0.002984</td>\n",
       "      <td>0.122085</td>\n",
       "      <td>0.122085</td>\n",
       "      <td>0.082108</td>\n",
       "      <td>0.082108</td>\n",
       "    </tr>\n",
       "    <tr>\n",
       "      <th>BGP_testbed_3</th>\n",
       "      <td>1.0</td>\n",
       "      <td>0.454545</td>\n",
       "      <td>0.765873</td>\n",
       "      <td>1.0</td>\n",
       "      <td>0.977866</td>\n",
       "      <td>0.545455</td>\n",
       "      <td>0.0</td>\n",
       "      <td>0.022134</td>\n",
       "      <td>0.454545</td>\n",
       "      <td>0.0</td>\n",
       "      <td>...</td>\n",
       "      <td>0.005653</td>\n",
       "      <td>0.005653</td>\n",
       "      <td>0.110210</td>\n",
       "      <td>0.110210</td>\n",
       "      <td>0.005645</td>\n",
       "      <td>0.005645</td>\n",
       "      <td>0.141881</td>\n",
       "      <td>0.141881</td>\n",
       "      <td>0.109585</td>\n",
       "      <td>0.109585</td>\n",
       "    </tr>\n",
       "    <tr>\n",
       "      <th>BGP_testbed_5</th>\n",
       "      <td>1.0</td>\n",
       "      <td>0.371212</td>\n",
       "      <td>0.721037</td>\n",
       "      <td>1.0</td>\n",
       "      <td>0.992350</td>\n",
       "      <td>0.628788</td>\n",
       "      <td>0.0</td>\n",
       "      <td>0.007650</td>\n",
       "      <td>0.371212</td>\n",
       "      <td>0.0</td>\n",
       "      <td>...</td>\n",
       "      <td>0.001222</td>\n",
       "      <td>0.001222</td>\n",
       "      <td>0.081716</td>\n",
       "      <td>0.081716</td>\n",
       "      <td>0.001219</td>\n",
       "      <td>0.001219</td>\n",
       "      <td>0.101279</td>\n",
       "      <td>0.101279</td>\n",
       "      <td>0.081634</td>\n",
       "      <td>0.081634</td>\n",
       "    </tr>\n",
       "    <tr>\n",
       "      <th>BGP_testbed_9</th>\n",
       "      <td>1.0</td>\n",
       "      <td>0.200000</td>\n",
       "      <td>0.663291</td>\n",
       "      <td>1.0</td>\n",
       "      <td>0.970362</td>\n",
       "      <td>0.800000</td>\n",
       "      <td>0.0</td>\n",
       "      <td>0.029638</td>\n",
       "      <td>0.200000</td>\n",
       "      <td>0.0</td>\n",
       "      <td>...</td>\n",
       "      <td>0.004886</td>\n",
       "      <td>0.004886</td>\n",
       "      <td>0.000000</td>\n",
       "      <td>0.000000</td>\n",
       "      <td>0.000000</td>\n",
       "      <td>0.000000</td>\n",
       "      <td>0.134362</td>\n",
       "      <td>0.134362</td>\n",
       "      <td>0.000000</td>\n",
       "      <td>0.000000</td>\n",
       "    </tr>\n",
       "  </tbody>\n",
       "</table>\n",
       "<p>5 rows × 48 columns</p>\n",
       "</div>"
      ],
      "text/plain": [
       "                avg_prec   avg_rec  avg_fscore  avg_TNR   avg_NPV   avg_FNR  \\\n",
       "dataset                                                                       \n",
       "BGP_testbed_10       1.0  0.181818    0.579297      1.0  0.976385  0.818182   \n",
       "BGP_testbed_2        1.0  0.532468    0.831730      1.0  0.988322  0.467532   \n",
       "BGP_testbed_3        1.0  0.454545    0.765873      1.0  0.977866  0.545455   \n",
       "BGP_testbed_5        1.0  0.371212    0.721037      1.0  0.992350  0.628788   \n",
       "BGP_testbed_9        1.0  0.200000    0.663291      1.0  0.970362  0.800000   \n",
       "\n",
       "                avg_FDR   avg_FOR    avg_TS  avg_PT  ...  ci_ACC_low  \\\n",
       "dataset                                              ...               \n",
       "BGP_testbed_10      0.0  0.023615  0.181818     0.0  ...    0.002020   \n",
       "BGP_testbed_2       0.0  0.011678  0.532468     0.0  ...    0.002974   \n",
       "BGP_testbed_3       0.0  0.022134  0.454545     0.0  ...    0.005653   \n",
       "BGP_testbed_5       0.0  0.007650  0.371212     0.0  ...    0.001222   \n",
       "BGP_testbed_9       0.0  0.029638  0.200000     0.0  ...    0.004886   \n",
       "\n",
       "                ci_ACC_high  ci_MCC_low  ci_MCC_high  ci_MK_low  ci_MK_high  \\\n",
       "dataset                                                                       \n",
       "BGP_testbed_10     0.002020    0.000000     0.000000   0.000000    0.000000   \n",
       "BGP_testbed_2      0.002974    0.082780     0.082780   0.002984    0.002984   \n",
       "BGP_testbed_3      0.005653    0.110210     0.110210   0.005645    0.005645   \n",
       "BGP_testbed_5      0.001222    0.081716     0.081716   0.001219    0.001219   \n",
       "BGP_testbed_9      0.004886    0.000000     0.000000   0.000000    0.000000   \n",
       "\n",
       "                ci_BM_low  ci_BM_high  ci_FM_low  ci_FM_high  \n",
       "dataset                                                       \n",
       "BGP_testbed_10   0.072469    0.072469   0.000000    0.000000  \n",
       "BGP_testbed_2    0.122085    0.122085   0.082108    0.082108  \n",
       "BGP_testbed_3    0.141881    0.141881   0.109585    0.109585  \n",
       "BGP_testbed_5    0.101279    0.101279   0.081634    0.081634  \n",
       "BGP_testbed_9    0.134362    0.134362   0.000000    0.000000  \n",
       "\n",
       "[5 rows x 48 columns]"
      ]
     },
     "execution_count": 5,
     "metadata": {},
     "output_type": "execute_result"
    }
   ],
   "source": [
    "model.results"
   ]
  },
  {
   "cell_type": "code",
   "execution_count": 6,
   "metadata": {},
   "outputs": [
    {
     "data": {
      "text/plain": [
       "avg_prec          1.000000\n",
       "avg_rec           0.251010\n",
       "avg_fscore        0.654542\n",
       "avg_TNR           1.000000\n",
       "avg_NPV           0.979699\n",
       "avg_FNR           0.748990\n",
       "avg_FDR           0.000000\n",
       "avg_FOR           0.020301\n",
       "avg_TS            0.251010\n",
       "avg_PT            0.000000\n",
       "avg_FPR           0.000000\n",
       "avg_ACC           0.979805\n",
       "avg_MCC           0.532900\n",
       "avg_MK            0.981411\n",
       "avg_BM            0.251010\n",
       "avg_FM            0.537620\n",
       "ci_prec_low       0.000000\n",
       "ci_prec_high      0.000000\n",
       "ci_rec_low        0.102703\n",
       "ci_rec_high       0.102703\n",
       "ci_fscore_low     0.027111\n",
       "ci_fscore_high    0.027111\n",
       "ci_TNR_low        0.000000\n",
       "ci_TNR_high       0.000000\n",
       "ci_NPV_low        0.002665\n",
       "ci_NPV_high       0.002665\n",
       "ci_FNR_low        0.102703\n",
       "ci_FNR_high       0.102703\n",
       "ci_FDR_low        0.000000\n",
       "ci_FDR_high       0.000000\n",
       "ci_FOR_low        0.002665\n",
       "ci_FOR_high       0.002665\n",
       "ci_TS_low         0.102703\n",
       "ci_TS_high        0.102703\n",
       "ci_PT_low         0.000000\n",
       "ci_PT_high        0.000000\n",
       "ci_FPR_low        0.000000\n",
       "ci_FPR_high       0.000000\n",
       "ci_ACC_low        0.002709\n",
       "ci_ACC_high       0.002709\n",
       "ci_MCC_low        0.027239\n",
       "ci_MCC_high       0.027239\n",
       "ci_MK_low         0.000406\n",
       "ci_MK_high        0.000406\n",
       "ci_BM_low         0.102703\n",
       "ci_BM_high        0.102703\n",
       "ci_FM_low         0.027211\n",
       "ci_FM_high        0.027211\n",
       "dtype: float64"
      ]
     },
     "execution_count": 6,
     "metadata": {},
     "output_type": "execute_result"
    }
   ],
   "source": [
    "model.results.loc[['BGP_testbed_5', 'BGP_testbed_9', 'BGP_testbed_10']].mean()"
   ]
  }
 ],
 "metadata": {
  "kernelspec": {
   "display_name": "Python 3",
   "language": "python",
   "name": "python3"
  },
  "language_info": {
   "codemirror_mode": {
    "name": "ipython",
    "version": 3
   },
   "file_extension": ".py",
   "mimetype": "text/x-python",
   "name": "python",
   "nbconvert_exporter": "python",
   "pygments_lexer": "ipython3",
   "version": "3.8.3"
  }
 },
 "nbformat": 4,
 "nbformat_minor": 4
}
