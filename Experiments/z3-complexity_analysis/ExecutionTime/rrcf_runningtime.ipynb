{
 "cells": [
  {
   "cell_type": "code",
   "execution_count": 1,
   "metadata": {},
   "outputs": [],
   "source": [
    "import pandas as pd, numpy as np, json, time\n",
    "from sklearn.neighbors import KDTree\n",
    "\n",
    "import sys\n",
    "sys.path.insert(0,'../../../Architecture/')\n",
    "\n",
    "import rrcf"
   ]
  },
  {
   "cell_type": "code",
   "execution_count": 2,
   "metadata": {},
   "outputs": [
    {
     "name": "stdout",
     "output_type": "stream",
     "text": [
      "CPU times: user 5.51 s, sys: 254 ms, total: 5.77 s\n",
      "Wall time: 5.79 s\n"
     ]
    },
    {
     "data": {
      "text/plain": [
       "(185984, 82)"
      ]
     },
     "execution_count": 2,
     "metadata": {},
     "output_type": "execute_result"
    }
   ],
   "source": [
    "%%time\n",
    "df = pd.read_csv('extended_bgp_testbed_5.csv.gz')\n",
    "df = df.drop(['Unnamed: 0'], axis=1)\n",
    "df = df.dropna()\n",
    "df = df.astype('float64')\n",
    "df.shape"
   ]
  },
  {
   "cell_type": "code",
   "execution_count": 3,
   "metadata": {},
   "outputs": [],
   "source": [
    "samples_to_use_list = list(range(1000, 10000, 1000))\n",
    "samples_to_use_list = samples_to_use_list + list(range(10000, 110000, 10000))"
   ]
  },
  {
   "cell_type": "code",
   "execution_count": null,
   "metadata": {
    "scrolled": true
   },
   "outputs": [
    {
     "name": "stdout",
     "output_type": "stream",
     "text": [
      "RRCF: 1000\n",
      "1000 - 96.73315930366516\n",
      "1000 - 96.87112259864807\n",
      "1000 - 94.49154949188232\n",
      "RRCF: 2000\n",
      "2000 - 197.90905952453613\n",
      "2000 - 200.56196928024292\n",
      "2000 - 201.2188844680786\n",
      "RRCF: 3000\n",
      "3000 - 303.39291548728943\n",
      "3000 - 301.8438537120819\n",
      "4000 - 409.4901831150055\n",
      "4000 - 410.06203866004944\n",
      "4000 - 405.4571182727814\n",
      "RRCF: 5000\n",
      "5000 - 509.37081718444824\n",
      "5000 - 509.9335708618164\n",
      "5000 - 515.2171144485474\n",
      "RRCF: 6000\n",
      "6000 - 616.9344561100006\n",
      "6000 - 616.5821328163147\n",
      "6000 - 598.1705801486969\n",
      "RRCF: 7000\n",
      "7000 - 697.4214684963226\n",
      "7000 - 703.1724119186401\n",
      "7000 - 700.5761675834656\n",
      "RRCF: 8000\n",
      "8000 - 801.346185207367\n",
      "8000 - 805.9196536540985\n"
     ]
    }
   ],
   "source": [
    "results = {}\n",
    "results['algorithm'] = 'RRCF'\n",
    "results['times'] = []\n",
    "\n",
    "for sample_to_use in samples_to_use_list:\n",
    "            \n",
    "    print('RRCF: {}'.format(sample_to_use))\n",
    "    results_samples = []\n",
    "    dfNormalized = df[:sample_to_use]\n",
    "        \n",
    "    num_runs = 3\n",
    "        \n",
    "    for measurement in range(num_runs):\n",
    "        sampleSkip = 30\n",
    "        bufferDF = dfNormalized[0:sampleSkip]\n",
    "        testDF = dfNormalized[sampleSkip:]\n",
    "\n",
    "        points = testDF.values\n",
    "        tree_size = 95\n",
    "        num_trees = 100\n",
    "        \n",
    "        # Create a forest of empty trees\n",
    "        forest = []\n",
    "        for _ in range(num_trees):\n",
    "            tree = rrcf.RCTree()\n",
    "            forest.append(tree)\n",
    "        # Create a dict to store anomaly score of each point\n",
    "        avg_codisp = {}        \n",
    "        \n",
    "        start = time.time()\n",
    "        \n",
    "        for index, point in enumerate(points):\n",
    "            # For each tree in the forest...\n",
    "            for tree in forest:\n",
    "                # If tree is above permitted size, drop the oldest point (FIFO)\n",
    "                if len(tree.leaves) > tree_size:\n",
    "                    tree.forget_point(index - tree_size)\n",
    "                # Insert the new point into the tree\n",
    "                tree.insert_point(point, index=index)\n",
    "                # Compute codisp on the new point and take the average among all trees\n",
    "                if not index in avg_codisp:\n",
    "                    avg_codisp[index] = 0\n",
    "                avg_codisp[index] += tree.codisp(index) / num_trees\n",
    "        \n",
    "        end = time.time()\n",
    "        time_interval = end-start\n",
    "        results_samples.append(time_interval)\n",
    "        print('{} - {}'.format(sample_to_use, time_interval))\n",
    "    \n",
    "    results['times'].append(results_samples)\n",
    "    with open('Results/RRCF_extended.json', 'w') as f:\n",
    "        json.dump(results, f, indent=2)"
   ]
  },
  {
   "cell_type": "code",
   "execution_count": null,
   "metadata": {},
   "outputs": [],
   "source": []
  }
 ],
 "metadata": {
  "kernelspec": {
   "display_name": "Python 3",
   "language": "python",
   "name": "python3"
  },
  "language_info": {
   "codemirror_mode": {
    "name": "ipython",
    "version": 3
   },
   "file_extension": ".py",
   "mimetype": "text/x-python",
   "name": "python",
   "nbconvert_exporter": "python",
   "pygments_lexer": "ipython3",
   "version": "3.8.3"
  }
 },
 "nbformat": 4,
 "nbformat_minor": 4
}
